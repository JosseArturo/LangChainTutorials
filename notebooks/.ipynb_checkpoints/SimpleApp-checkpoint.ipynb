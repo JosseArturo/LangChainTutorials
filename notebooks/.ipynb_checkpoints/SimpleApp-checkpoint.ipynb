{
 "cells": [
  {
   "cell_type": "code",
   "execution_count": 1,
   "id": "698f33bb",
   "metadata": {},
   "outputs": [],
   "source": [
    "## Before\n",
    "# Create OpenAI Key\n",
    "# Create LangSmith API Key\n",
    "# Create Mistrar API Key"
   ]
  },
  {
   "cell_type": "markdown",
   "id": "c3b4b5e3",
   "metadata": {},
   "source": [
    "# Connect LangSmith"
   ]
  },
  {
   "cell_type": "code",
   "execution_count": 1,
   "id": "eeb8c9e0",
   "metadata": {},
   "outputs": [],
   "source": [
    "# import getpass\n",
    "# import os\n",
    "\n",
    "# print(os.environ[\"MISTRAL_API_KEY\"])\n",
    "# print(os.environ[\"LANGCHAIN_API_KEY\"])\n",
    "\n"
   ]
  },
  {
   "cell_type": "code",
   "execution_count": 3,
   "id": "6534fc40",
   "metadata": {},
   "outputs": [],
   "source": [
    "import getpass\n",
    "import os\n",
    "os.environ[\"LANGCHAIN_TRACING_V2\"] = \"true\"\n",
    "# os.environ[\"LANGCHAIN_API_KEY\"] = getpass.getpass()"
   ]
  },
  {
   "cell_type": "markdown",
   "id": "c7255f3a",
   "metadata": {},
   "source": [
    "# Using LLM"
   ]
  },
  {
   "cell_type": "code",
   "execution_count": 4,
   "id": "4cfd76ae",
   "metadata": {},
   "outputs": [],
   "source": [
    "import getpass\n",
    "import os\n",
    "\n",
    "# os.environ[\"MISTRAL_API_KEY\"] = getpass.getpass()\n",
    "\n",
    "from langchain_mistralai import ChatMistralAI\n",
    "\n",
    "model = ChatMistralAI(model=\"mistral-large-latest\")"
   ]
  },
  {
   "cell_type": "code",
   "execution_count": 5,
   "id": "649e1e50",
   "metadata": {},
   "outputs": [
    {
     "data": {
      "text/plain": [
       "AIMessage(content='Ciao!', response_metadata={'token_usage': {'prompt_tokens': 15, 'total_tokens': 18, 'completion_tokens': 3}, 'model': 'mistral-large-latest', 'finish_reason': 'stop'}, id='run-9cf994df-17f7-42c4-acbf-645db8818e6a-0', usage_metadata={'input_tokens': 15, 'output_tokens': 3, 'total_tokens': 18})"
      ]
     },
     "execution_count": 5,
     "metadata": {},
     "output_type": "execute_result"
    },
    {
     "name": "stderr",
     "output_type": "stream",
     "text": [
      "Failed to batch ingest runs: langsmith.utils.LangSmithRateLimitError: Rate limit exceeded for https://api.smith.langchain.com/runs/batch. HTTPError('429 Client Error: Too Many Requests for url: https://api.smith.langchain.com/runs/batch', '{\"detail\":\"Usage limit monthly_traces of 1 exceeded\"}')\n",
      "post: trace=9cf994df-17f7-42c4-acbf-645db8818e6a,id=9cf994df-17f7-42c4-acbf-645db8818e6a\n",
      "Failed to batch ingest runs: langsmith.utils.LangSmithRateLimitError: Rate limit exceeded for https://api.smith.langchain.com/runs/batch. HTTPError('429 Client Error: Too Many Requests for url: https://api.smith.langchain.com/runs/batch', '{\"detail\":\"Usage limit monthly_traces of 1 exceeded\"}')\n",
      "post: trace=038920fd-f39a-4702-838c-88971bfa26d9,id=038920fd-f39a-4702-838c-88971bfa26d9; trace=6ed1d103-fa67-442d-b1b6-a4770e7e1a92,id=6ed1d103-fa67-442d-b1b6-a4770e7e1a92; patch: trace=9cf994df-17f7-42c4-acbf-645db8818e6a,id=9cf994df-17f7-42c4-acbf-645db8818e6a\n",
      "Failed to batch ingest runs: langsmith.utils.LangSmithRateLimitError: Rate limit exceeded for https://api.smith.langchain.com/runs/batch. HTTPError('429 Client Error: Too Many Requests for url: https://api.smith.langchain.com/runs/batch', '{\"detail\":\"Usage limit monthly_traces of 1 exceeded\"}')\n",
      "post: trace=c7cef628-0539-4e41-ba67-7b8abe5ad79e,id=c7cef628-0539-4e41-ba67-7b8abe5ad79e; trace=c7cef628-0539-4e41-ba67-7b8abe5ad79e,id=6f482cb1-66e6-4e95-a4cd-570e67826d2f; trace=c7cef628-0539-4e41-ba67-7b8abe5ad79e,id=5895b85e-8a49-415f-9d29-887c5a253ac8\n",
      "Failed to batch ingest runs: langsmith.utils.LangSmithRateLimitError: Rate limit exceeded for https://api.smith.langchain.com/runs/batch. HTTPError('429 Client Error: Too Many Requests for url: https://api.smith.langchain.com/runs/batch', '{\"detail\":\"Usage limit monthly_traces of 1 exceeded\"}')\n",
      "post: trace=c54023dd-913d-41d0-93a1-a05132f33a12,id=c54023dd-913d-41d0-93a1-a05132f33a12; trace=0f330f2b-b32e-4e16-ae6c-5f8f22ce732f,id=0f330f2b-b32e-4e16-ae6c-5f8f22ce732f; trace=d6c0df70-43d0-4e27-af3e-34e51007f733,id=d6c0df70-43d0-4e27-af3e-34e51007f733; trace=d6c0df70-43d0-4e27-af3e-34e51007f733,id=3c6d5ff1-7b9b-4005-9724-c24bce8805da; trace=d6c0df70-43d0-4e27-af3e-34e51007f733,id=996298b7-6075-47f0-ac31-a18bcc7a04e5; trace=d6c0df70-43d0-4e27-af3e-34e51007f733,id=219434ac-ac89-423a-94c4-ec581b78cf7a\n"
     ]
    }
   ],
   "source": [
    "from langchain_core.messages import HumanMessage, SystemMessage\n",
    "\n",
    "messages = [\n",
    "    SystemMessage(content=\"Translate the following from English into Italian\"),\n",
    "    HumanMessage(content=\"hi!\"),\n",
    "]\n",
    "\n",
    "model.invoke(messages)"
   ]
  },
  {
   "cell_type": "code",
   "execution_count": 8,
   "id": "291ad256",
   "metadata": {},
   "outputs": [
    {
     "data": {
      "text/plain": [
       "'Hello in Italian translates to \"ciao!\"'"
      ]
     },
     "execution_count": 8,
     "metadata": {},
     "output_type": "execute_result"
    }
   ],
   "source": [
    "from langchain_core.output_parsers import StrOutputParser\n",
    "\n",
    "parser = StrOutputParser()\n",
    "result = model.invoke(messages)\n",
    "parser.invoke(result)"
   ]
  },
  {
   "cell_type": "markdown",
   "id": "dee408dc",
   "metadata": {},
   "source": [
    "You can chain the output"
   ]
  },
  {
   "cell_type": "code",
   "execution_count": 9,
   "id": "a366d470",
   "metadata": {},
   "outputs": [],
   "source": [
    "chain = model | parser"
   ]
  },
  {
   "cell_type": "code",
   "execution_count": 10,
   "id": "d851cfb0",
   "metadata": {},
   "outputs": [
    {
     "data": {
      "text/plain": [
       "'Ciao!'"
      ]
     },
     "execution_count": 10,
     "metadata": {},
     "output_type": "execute_result"
    }
   ],
   "source": [
    "chain.invoke(messages)"
   ]
  },
  {
   "cell_type": "markdown",
   "id": "ea72afa0",
   "metadata": {},
   "source": [
    "# Prompt Templates"
   ]
  },
  {
   "cell_type": "code",
   "execution_count": 13,
   "id": "06df695b",
   "metadata": {},
   "outputs": [
    {
     "name": "stdout",
     "output_type": "stream",
     "text": [
      "messages=[SystemMessage(content='Translate the following into italian:'), HumanMessage(content='hi')]\n"
     ]
    }
   ],
   "source": [
    "from langchain_core.prompts import ChatPromptTemplate\n",
    "\n",
    "system_template = \"Translate the following into {language}:\"\n",
    "\n",
    "prompt_template = ChatPromptTemplate.from_messages(\n",
    "    [(\"system\", system_template), (\"user\", \"{text}\")]\n",
    ")\n",
    "\n",
    "result = prompt_template.invoke({\"language\": \"italian\", \"text\": \"hi\"})\n",
    "\n",
    "print(result)"
   ]
  },
  {
   "cell_type": "code",
   "execution_count": 14,
   "id": "93ca0ae9",
   "metadata": {},
   "outputs": [
    {
     "data": {
      "text/plain": [
       "[SystemMessage(content='Translate the following into italian:'),\n",
       " HumanMessage(content='hi')]"
      ]
     },
     "execution_count": 14,
     "metadata": {},
     "output_type": "execute_result"
    }
   ],
   "source": [
    "result.to_messages()"
   ]
  },
  {
   "cell_type": "markdown",
   "id": "7008824b",
   "metadata": {},
   "source": [
    "# Chaining together components"
   ]
  },
  {
   "cell_type": "code",
   "execution_count": 15,
   "id": "4f5d6c90",
   "metadata": {},
   "outputs": [],
   "source": [
    "chain = prompt_template | model | parser"
   ]
  },
  {
   "cell_type": "code",
   "execution_count": 16,
   "id": "80a2f6ad",
   "metadata": {
    "scrolled": true
   },
   "outputs": [
    {
     "data": {
      "text/plain": [
       "'Sure, \"hi\" in Italian is \"ciao.\"'"
      ]
     },
     "execution_count": 16,
     "metadata": {},
     "output_type": "execute_result"
    }
   ],
   "source": [
    "chain.invoke({\"language\": \"italian\", \"text\": \"hi\"})"
   ]
  },
  {
   "cell_type": "code",
   "execution_count": 18,
   "id": "8f4730ee",
   "metadata": {
    "scrolled": false
   },
   "outputs": [
    {
     "name": "stdout",
     "output_type": "stream",
     "text": [
      "Collecting langserve[all]\n",
      "  Downloading langserve-0.2.3-py3-none-any.whl.metadata (39 kB)\n",
      "Requirement already satisfied: httpx>=0.23.0 in c:\\users\\josea\\appdata\\local\\programs\\python\\python39\\lib\\site-packages (from langserve[all]) (0.27.2)\n",
      "Requirement already satisfied: langchain-core<0.3,>=0.1 in c:\\users\\josea\\appdata\\local\\programs\\python\\python39\\lib\\site-packages (from langserve[all]) (0.2.38)\n",
      "Requirement already satisfied: orjson>=2 in c:\\users\\josea\\appdata\\local\\programs\\python\\python39\\lib\\site-packages (from langserve[all]) (3.10.7)\n",
      "Requirement already satisfied: pydantic>=1 in c:\\users\\josea\\appdata\\local\\programs\\python\\python39\\lib\\site-packages (from langserve[all]) (2.9.0)\n",
      "Collecting pyproject-toml<0.0.11,>=0.0.10 (from langserve[all])\n",
      "  Downloading pyproject_toml-0.0.10-py3-none-any.whl.metadata (642 bytes)\n",
      "Collecting fastapi<1,>=0.90.1 (from langserve[all])\n",
      "  Downloading fastapi-0.114.0-py3-none-any.whl.metadata (27 kB)\n",
      "Collecting sse-starlette<2.0.0,>=1.3.0 (from langserve[all])\n",
      "  Downloading sse_starlette-1.8.2-py3-none-any.whl.metadata (5.4 kB)\n",
      "Collecting starlette<0.39.0,>=0.37.2 (from fastapi<1,>=0.90.1->langserve[all])\n",
      "  Downloading starlette-0.38.5-py3-none-any.whl.metadata (6.0 kB)\n",
      "Requirement already satisfied: typing-extensions>=4.8.0 in c:\\users\\josea\\appdata\\local\\programs\\python\\python39\\lib\\site-packages (from fastapi<1,>=0.90.1->langserve[all]) (4.12.2)\n",
      "Requirement already satisfied: anyio in c:\\users\\josea\\appdata\\local\\programs\\python\\python39\\lib\\site-packages (from httpx>=0.23.0->langserve[all]) (3.6.1)\n",
      "Requirement already satisfied: certifi in c:\\users\\josea\\appdata\\local\\programs\\python\\python39\\lib\\site-packages (from httpx>=0.23.0->langserve[all]) (2021.5.30)\n",
      "Requirement already satisfied: httpcore==1.* in c:\\users\\josea\\appdata\\local\\programs\\python\\python39\\lib\\site-packages (from httpx>=0.23.0->langserve[all]) (1.0.5)\n",
      "Requirement already satisfied: idna in c:\\users\\josea\\appdata\\local\\programs\\python\\python39\\lib\\site-packages (from httpx>=0.23.0->langserve[all]) (3.2)\n",
      "Requirement already satisfied: sniffio in c:\\users\\josea\\appdata\\local\\programs\\python\\python39\\lib\\site-packages (from httpx>=0.23.0->langserve[all]) (1.2.0)\n",
      "Requirement already satisfied: h11<0.15,>=0.13 in c:\\users\\josea\\appdata\\local\\programs\\python\\python39\\lib\\site-packages (from httpcore==1.*->httpx>=0.23.0->langserve[all]) (0.13.0)\n",
      "Requirement already satisfied: PyYAML>=5.3 in c:\\users\\josea\\appdata\\local\\programs\\python\\python39\\lib\\site-packages (from langchain-core<0.3,>=0.1->langserve[all]) (6.0)\n",
      "Requirement already satisfied: jsonpatch<2.0,>=1.33 in c:\\users\\josea\\appdata\\local\\programs\\python\\python39\\lib\\site-packages (from langchain-core<0.3,>=0.1->langserve[all]) (1.33)\n",
      "Requirement already satisfied: langsmith<0.2.0,>=0.1.75 in c:\\users\\josea\\appdata\\local\\programs\\python\\python39\\lib\\site-packages (from langchain-core<0.3,>=0.1->langserve[all]) (0.1.116)\n",
      "Requirement already satisfied: packaging<25,>=23.2 in c:\\users\\josea\\appdata\\local\\programs\\python\\python39\\lib\\site-packages (from langchain-core<0.3,>=0.1->langserve[all]) (24.1)\n",
      "Requirement already satisfied: tenacity!=8.4.0,<9.0.0,>=8.1.0 in c:\\users\\josea\\appdata\\local\\programs\\python\\python39\\lib\\site-packages (from langchain-core<0.3,>=0.1->langserve[all]) (8.5.0)\n",
      "Requirement already satisfied: annotated-types>=0.4.0 in c:\\users\\josea\\appdata\\local\\programs\\python\\python39\\lib\\site-packages (from pydantic>=1->langserve[all]) (0.7.0)\n",
      "Requirement already satisfied: pydantic-core==2.23.2 in c:\\users\\josea\\appdata\\local\\programs\\python\\python39\\lib\\site-packages (from pydantic>=1->langserve[all]) (2.23.2)\n",
      "Requirement already satisfied: tzdata in c:\\users\\josea\\appdata\\local\\programs\\python\\python39\\lib\\site-packages (from pydantic>=1->langserve[all]) (2024.1)\n",
      "Requirement already satisfied: setuptools>=42 in c:\\users\\josea\\appdata\\local\\programs\\python\\python39\\lib\\site-packages (from pyproject-toml<0.0.11,>=0.0.10->langserve[all]) (69.0.2)\n",
      "Requirement already satisfied: wheel in c:\\users\\josea\\appdata\\local\\programs\\python\\python39\\lib\\site-packages (from pyproject-toml<0.0.11,>=0.0.10->langserve[all]) (0.36.2)\n",
      "Requirement already satisfied: toml in c:\\users\\josea\\appdata\\local\\programs\\python\\python39\\lib\\site-packages (from pyproject-toml<0.0.11,>=0.0.10->langserve[all]) (0.10.2)\n",
      "Requirement already satisfied: jsonschema in c:\\users\\josea\\appdata\\local\\programs\\python\\python39\\lib\\site-packages (from pyproject-toml<0.0.11,>=0.0.10->langserve[all]) (4.23.0)\n",
      "Requirement already satisfied: uvicorn in c:\\users\\josea\\appdata\\local\\programs\\python\\python39\\lib\\site-packages (from sse-starlette<2.0.0,>=1.3.0->langserve[all]) (0.18.2)\n",
      "Requirement already satisfied: jsonpointer>=1.9 in c:\\users\\josea\\appdata\\local\\programs\\python\\python39\\lib\\site-packages (from jsonpatch<2.0,>=1.33->langchain-core<0.3,>=0.1->langserve[all]) (3.0.0)\n",
      "Requirement already satisfied: requests<3,>=2 in c:\\users\\josea\\appdata\\local\\programs\\python\\python39\\lib\\site-packages (from langsmith<0.2.0,>=0.1.75->langchain-core<0.3,>=0.1->langserve[all]) (2.32.3)\n",
      "Requirement already satisfied: attrs>=22.2.0 in c:\\users\\josea\\appdata\\local\\programs\\python\\python39\\lib\\site-packages (from jsonschema->pyproject-toml<0.0.11,>=0.0.10->langserve[all]) (24.2.0)\n",
      "Requirement already satisfied: jsonschema-specifications>=2023.03.6 in c:\\users\\josea\\appdata\\local\\programs\\python\\python39\\lib\\site-packages (from jsonschema->pyproject-toml<0.0.11,>=0.0.10->langserve[all]) (2023.12.1)\n",
      "Requirement already satisfied: referencing>=0.28.4 in c:\\users\\josea\\appdata\\local\\programs\\python\\python39\\lib\\site-packages (from jsonschema->pyproject-toml<0.0.11,>=0.0.10->langserve[all]) (0.35.1)\n",
      "Requirement already satisfied: rpds-py>=0.7.1 in c:\\users\\josea\\appdata\\local\\programs\\python\\python39\\lib\\site-packages (from jsonschema->pyproject-toml<0.0.11,>=0.0.10->langserve[all]) (0.20.0)\n",
      "Requirement already satisfied: click>=7.0 in c:\\users\\josea\\appdata\\local\\programs\\python\\python39\\lib\\site-packages (from uvicorn->sse-starlette<2.0.0,>=1.3.0->langserve[all]) (8.1.3)\n",
      "Requirement already satisfied: colorama in c:\\users\\josea\\appdata\\local\\programs\\python\\python39\\lib\\site-packages (from click>=7.0->uvicorn->sse-starlette<2.0.0,>=1.3.0->langserve[all]) (0.4.6)\n",
      "Requirement already satisfied: charset-normalizer<4,>=2 in c:\\users\\josea\\appdata\\local\\programs\\python\\python39\\lib\\site-packages (from requests<3,>=2->langsmith<0.2.0,>=0.1.75->langchain-core<0.3,>=0.1->langserve[all]) (2.0.5)\n",
      "Requirement already satisfied: urllib3<3,>=1.21.1 in c:\\users\\josea\\appdata\\local\\programs\\python\\python39\\lib\\site-packages (from requests<3,>=2->langsmith<0.2.0,>=0.1.75->langchain-core<0.3,>=0.1->langserve[all]) (1.26.18)\n",
      "Downloading fastapi-0.114.0-py3-none-any.whl (94 kB)\n",
      "Downloading pyproject_toml-0.0.10-py3-none-any.whl (6.9 kB)\n",
      "Downloading sse_starlette-1.8.2-py3-none-any.whl (8.9 kB)\n",
      "Downloading langserve-0.2.3-py3-none-any.whl (1.2 MB)\n",
      "   ---------------------------------------- 0.0/1.2 MB ? eta -:--:--\n",
      "   ---------------------------------------- 1.2/1.2 MB 8.3 MB/s eta 0:00:00\n",
      "Downloading starlette-0.38.5-py3-none-any.whl (71 kB)\n",
      "Installing collected packages: starlette, fastapi, sse-starlette, pyproject-toml, langserve\n",
      "  Attempting uninstall: starlette\n",
      "    Found existing installation: starlette 0.20.4\n",
      "    Uninstalling starlette-0.20.4:\n",
      "      Successfully uninstalled starlette-0.20.4\n",
      "Successfully installed fastapi-0.114.0 langserve-0.2.3 pyproject-toml-0.0.10 sse-starlette-1.8.2 starlette-0.38.5\n"
     ]
    },
    {
     "name": "stderr",
     "output_type": "stream",
     "text": [
      "WARNING: Ignoring invalid distribution -illow (c:\\users\\josea\\appdata\\local\\programs\\python\\python39\\lib\\site-packages)\n",
      "WARNING: Ignoring invalid distribution -illow (c:\\users\\josea\\appdata\\local\\programs\\python\\python39\\lib\\site-packages)\n",
      "WARNING: Ignoring invalid distribution -illow (c:\\users\\josea\\appdata\\local\\programs\\python\\python39\\lib\\site-packages)\n",
      "ERROR: pip's dependency resolver does not currently take into account all the packages that are installed. This behaviour is the source of the following dependency conflicts.\n",
      "platformio 6.1.3 requires starlette==0.20.*, but you have starlette 0.38.5 which is incompatible.\n"
     ]
    }
   ],
   "source": [
    "!pip install \"langserve[all]\""
   ]
  },
  {
   "cell_type": "markdown",
   "id": "95189e59",
   "metadata": {},
   "source": [
    "# Client"
   ]
  },
  {
   "cell_type": "code",
   "execution_count": 22,
   "id": "ba6de914",
   "metadata": {},
   "outputs": [
    {
     "name": "stdout",
     "output_type": "stream",
     "text": [
      "Requirement already satisfied: pydantic in c:\\users\\josea\\appdata\\local\\programs\\python\\python39\\lib\\site-packages (2.9.0)\n",
      "Requirement already satisfied: annotated-types>=0.4.0 in c:\\users\\josea\\appdata\\local\\programs\\python\\python39\\lib\\site-packages (from pydantic) (0.7.0)\n",
      "Requirement already satisfied: pydantic-core==2.23.2 in c:\\users\\josea\\appdata\\local\\programs\\python\\python39\\lib\\site-packages (from pydantic) (2.23.2)\n",
      "Requirement already satisfied: typing-extensions>=4.6.1 in c:\\users\\josea\\appdata\\local\\programs\\python\\python39\\lib\\site-packages (from pydantic) (4.12.2)\n",
      "Requirement already satisfied: tzdata in c:\\users\\josea\\appdata\\local\\programs\\python\\python39\\lib\\site-packages (from pydantic) (2024.1)\n"
     ]
    },
    {
     "name": "stderr",
     "output_type": "stream",
     "text": [
      "WARNING: Ignoring invalid distribution -illow (c:\\users\\josea\\appdata\\local\\programs\\python\\python39\\lib\\site-packages)\n",
      "WARNING: Ignoring invalid distribution -illow (c:\\users\\josea\\appdata\\local\\programs\\python\\python39\\lib\\site-packages)\n",
      "WARNING: Ignoring invalid distribution -illow (c:\\users\\josea\\appdata\\local\\programs\\python\\python39\\lib\\site-packages)\n"
     ]
    }
   ],
   "source": [
    "! pip install -U pydantic"
   ]
  },
  {
   "cell_type": "code",
   "execution_count": 23,
   "id": "95c70e85",
   "metadata": {
    "scrolled": true
   },
   "outputs": [
    {
     "ename": "HTTPStatusError",
     "evalue": "Server error '500 Internal Server Error' for url 'http://localhost:8000/chain/invoke'\nFor more information check: https://developer.mozilla.org/en-US/docs/Web/HTTP/Status/500 for Internal Server Error",
     "output_type": "error",
     "traceback": [
      "\u001b[1;31m---------------------------------------------------------------------------\u001b[0m",
      "\u001b[1;31mHTTPStatusError\u001b[0m                           Traceback (most recent call last)",
      "\u001b[1;32m~\\AppData\\Local\\Programs\\Python\\Python39\\lib\\site-packages\\langserve\\client.py\u001b[0m in \u001b[0;36m_raise_for_status\u001b[1;34m(response)\u001b[0m\n\u001b[0;32m    156\u001b[0m     \u001b[1;32mtry\u001b[0m\u001b[1;33m:\u001b[0m\u001b[1;33m\u001b[0m\u001b[1;33m\u001b[0m\u001b[0m\n\u001b[1;32m--> 157\u001b[1;33m         \u001b[0mresponse\u001b[0m\u001b[1;33m.\u001b[0m\u001b[0mraise_for_status\u001b[0m\u001b[1;33m(\u001b[0m\u001b[1;33m)\u001b[0m\u001b[1;33m\u001b[0m\u001b[1;33m\u001b[0m\u001b[0m\n\u001b[0m\u001b[0;32m    158\u001b[0m     \u001b[1;32mexcept\u001b[0m \u001b[0mhttpx\u001b[0m\u001b[1;33m.\u001b[0m\u001b[0mHTTPStatusError\u001b[0m \u001b[1;32mas\u001b[0m \u001b[0me\u001b[0m\u001b[1;33m:\u001b[0m\u001b[1;33m\u001b[0m\u001b[1;33m\u001b[0m\u001b[0m\n",
      "\u001b[1;32m~\\AppData\\Local\\Programs\\Python\\Python39\\lib\\site-packages\\httpx\\_models.py\u001b[0m in \u001b[0;36mraise_for_status\u001b[1;34m(self)\u001b[0m\n\u001b[0;32m    762\u001b[0m         \u001b[0mmessage\u001b[0m \u001b[1;33m=\u001b[0m \u001b[0mmessage\u001b[0m\u001b[1;33m.\u001b[0m\u001b[0mformat\u001b[0m\u001b[1;33m(\u001b[0m\u001b[0mself\u001b[0m\u001b[1;33m,\u001b[0m \u001b[0merror_type\u001b[0m\u001b[1;33m=\u001b[0m\u001b[0merror_type\u001b[0m\u001b[1;33m)\u001b[0m\u001b[1;33m\u001b[0m\u001b[1;33m\u001b[0m\u001b[0m\n\u001b[1;32m--> 763\u001b[1;33m         \u001b[1;32mraise\u001b[0m \u001b[0mHTTPStatusError\u001b[0m\u001b[1;33m(\u001b[0m\u001b[0mmessage\u001b[0m\u001b[1;33m,\u001b[0m \u001b[0mrequest\u001b[0m\u001b[1;33m=\u001b[0m\u001b[0mrequest\u001b[0m\u001b[1;33m,\u001b[0m \u001b[0mresponse\u001b[0m\u001b[1;33m=\u001b[0m\u001b[0mself\u001b[0m\u001b[1;33m)\u001b[0m\u001b[1;33m\u001b[0m\u001b[1;33m\u001b[0m\u001b[0m\n\u001b[0m\u001b[0;32m    764\u001b[0m \u001b[1;33m\u001b[0m\u001b[0m\n",
      "\u001b[1;31mHTTPStatusError\u001b[0m: Server error '500 Internal Server Error' for url 'http://localhost:8000/chain/invoke'\nFor more information check: https://developer.mozilla.org/en-US/docs/Web/HTTP/Status/500",
      "\nDuring handling of the above exception, another exception occurred:\n",
      "\u001b[1;31mHTTPStatusError\u001b[0m                           Traceback (most recent call last)",
      "\u001b[1;32m~\\AppData\\Local\\Temp\\ipykernel_21528\\277835003.py\u001b[0m in \u001b[0;36m<module>\u001b[1;34m\u001b[0m\n\u001b[0;32m      2\u001b[0m \u001b[1;33m\u001b[0m\u001b[0m\n\u001b[0;32m      3\u001b[0m \u001b[0mremote_chain\u001b[0m \u001b[1;33m=\u001b[0m \u001b[0mRemoteRunnable\u001b[0m\u001b[1;33m(\u001b[0m\u001b[1;34m\"http://localhost:8000/chain/\"\u001b[0m\u001b[1;33m)\u001b[0m\u001b[1;33m\u001b[0m\u001b[1;33m\u001b[0m\u001b[0m\n\u001b[1;32m----> 4\u001b[1;33m \u001b[0mremote_chain\u001b[0m\u001b[1;33m.\u001b[0m\u001b[0minvoke\u001b[0m\u001b[1;33m(\u001b[0m\u001b[1;33m{\u001b[0m\u001b[1;34m\"language\"\u001b[0m\u001b[1;33m:\u001b[0m \u001b[1;34m\"italian\"\u001b[0m\u001b[1;33m,\u001b[0m \u001b[1;34m\"text\"\u001b[0m\u001b[1;33m:\u001b[0m \u001b[1;34m\"hi\"\u001b[0m\u001b[1;33m}\u001b[0m\u001b[1;33m)\u001b[0m\u001b[1;33m\u001b[0m\u001b[1;33m\u001b[0m\u001b[0m\n\u001b[0m",
      "\u001b[1;32m~\\AppData\\Local\\Programs\\Python\\Python39\\lib\\site-packages\\langserve\\client.py\u001b[0m in \u001b[0;36minvoke\u001b[1;34m(self, input, config, **kwargs)\u001b[0m\n\u001b[0;32m    354\u001b[0m         \u001b[1;32mif\u001b[0m \u001b[0mkwargs\u001b[0m\u001b[1;33m:\u001b[0m\u001b[1;33m\u001b[0m\u001b[1;33m\u001b[0m\u001b[0m\n\u001b[0;32m    355\u001b[0m             \u001b[1;32mraise\u001b[0m \u001b[0mNotImplementedError\u001b[0m\u001b[1;33m(\u001b[0m\u001b[1;34m\"kwargs not implemented yet.\"\u001b[0m\u001b[1;33m)\u001b[0m\u001b[1;33m\u001b[0m\u001b[1;33m\u001b[0m\u001b[0m\n\u001b[1;32m--> 356\u001b[1;33m         \u001b[1;32mreturn\u001b[0m \u001b[0mself\u001b[0m\u001b[1;33m.\u001b[0m\u001b[0m_call_with_config\u001b[0m\u001b[1;33m(\u001b[0m\u001b[0mself\u001b[0m\u001b[1;33m.\u001b[0m\u001b[0m_invoke\u001b[0m\u001b[1;33m,\u001b[0m \u001b[0minput\u001b[0m\u001b[1;33m,\u001b[0m \u001b[0mconfig\u001b[0m\u001b[1;33m=\u001b[0m\u001b[0mconfig\u001b[0m\u001b[1;33m)\u001b[0m\u001b[1;33m\u001b[0m\u001b[1;33m\u001b[0m\u001b[0m\n\u001b[0m\u001b[0;32m    357\u001b[0m \u001b[1;33m\u001b[0m\u001b[0m\n\u001b[0;32m    358\u001b[0m     async def _ainvoke(\n",
      "\u001b[1;32m~\\AppData\\Local\\Programs\\Python\\Python39\\lib\\site-packages\\langchain_core\\runnables\\base.py\u001b[0m in \u001b[0;36m_call_with_config\u001b[1;34m(self, func, input, config, run_type, **kwargs)\u001b[0m\n\u001b[0;32m   1783\u001b[0m             output = cast(\n\u001b[0;32m   1784\u001b[0m                 \u001b[0mOutput\u001b[0m\u001b[1;33m,\u001b[0m\u001b[1;33m\u001b[0m\u001b[1;33m\u001b[0m\u001b[0m\n\u001b[1;32m-> 1785\u001b[1;33m                 context.run(\n\u001b[0m\u001b[0;32m   1786\u001b[0m                     \u001b[0mcall_func_with_variable_args\u001b[0m\u001b[1;33m,\u001b[0m  \u001b[1;31m# type: ignore[arg-type]\u001b[0m\u001b[1;33m\u001b[0m\u001b[1;33m\u001b[0m\u001b[0m\n\u001b[0;32m   1787\u001b[0m                     \u001b[0mfunc\u001b[0m\u001b[1;33m,\u001b[0m  \u001b[1;31m# type: ignore[arg-type]\u001b[0m\u001b[1;33m\u001b[0m\u001b[1;33m\u001b[0m\u001b[0m\n",
      "\u001b[1;32m~\\AppData\\Local\\Programs\\Python\\Python39\\lib\\site-packages\\langchain_core\\runnables\\config.py\u001b[0m in \u001b[0;36mcall_func_with_variable_args\u001b[1;34m(func, input, config, run_manager, **kwargs)\u001b[0m\n\u001b[0;32m    396\u001b[0m     \u001b[1;32mif\u001b[0m \u001b[0mrun_manager\u001b[0m \u001b[1;32mis\u001b[0m \u001b[1;32mnot\u001b[0m \u001b[1;32mNone\u001b[0m \u001b[1;32mand\u001b[0m \u001b[0maccepts_run_manager\u001b[0m\u001b[1;33m(\u001b[0m\u001b[0mfunc\u001b[0m\u001b[1;33m)\u001b[0m\u001b[1;33m:\u001b[0m\u001b[1;33m\u001b[0m\u001b[1;33m\u001b[0m\u001b[0m\n\u001b[0;32m    397\u001b[0m         \u001b[0mkwargs\u001b[0m\u001b[1;33m[\u001b[0m\u001b[1;34m\"run_manager\"\u001b[0m\u001b[1;33m]\u001b[0m \u001b[1;33m=\u001b[0m \u001b[0mrun_manager\u001b[0m\u001b[1;33m\u001b[0m\u001b[1;33m\u001b[0m\u001b[0m\n\u001b[1;32m--> 398\u001b[1;33m     \u001b[1;32mreturn\u001b[0m \u001b[0mfunc\u001b[0m\u001b[1;33m(\u001b[0m\u001b[0minput\u001b[0m\u001b[1;33m,\u001b[0m \u001b[1;33m**\u001b[0m\u001b[0mkwargs\u001b[0m\u001b[1;33m)\u001b[0m  \u001b[1;31m# type: ignore[call-arg]\u001b[0m\u001b[1;33m\u001b[0m\u001b[1;33m\u001b[0m\u001b[0m\n\u001b[0m\u001b[0;32m    399\u001b[0m \u001b[1;33m\u001b[0m\u001b[0m\n\u001b[0;32m    400\u001b[0m \u001b[1;33m\u001b[0m\u001b[0m\n",
      "\u001b[1;32m~\\AppData\\Local\\Programs\\Python\\Python39\\lib\\site-packages\\langserve\\client.py\u001b[0m in \u001b[0;36m_invoke\u001b[1;34m(self, input, run_manager, config, **kwargs)\u001b[0m\n\u001b[0;32m    341\u001b[0m             },\n\u001b[0;32m    342\u001b[0m         )\n\u001b[1;32m--> 343\u001b[1;33m         output, callback_events = _decode_response(\n\u001b[0m\u001b[0;32m    344\u001b[0m             \u001b[0mself\u001b[0m\u001b[1;33m.\u001b[0m\u001b[0m_lc_serializer\u001b[0m\u001b[1;33m,\u001b[0m \u001b[0mresponse\u001b[0m\u001b[1;33m,\u001b[0m \u001b[0mis_batch\u001b[0m\u001b[1;33m=\u001b[0m\u001b[1;32mFalse\u001b[0m\u001b[1;33m\u001b[0m\u001b[1;33m\u001b[0m\u001b[0m\n\u001b[0;32m    345\u001b[0m         )\n",
      "\u001b[1;32m~\\AppData\\Local\\Programs\\Python\\Python39\\lib\\site-packages\\langserve\\client.py\u001b[0m in \u001b[0;36m_decode_response\u001b[1;34m(serializer, response, is_batch)\u001b[0m\n\u001b[0;32m    228\u001b[0m ) -> Tuple[Any, Union[List[CallbackEventDict], List[List[CallbackEventDict]]]]:\n\u001b[0;32m    229\u001b[0m     \u001b[1;34m\"\"\"Decode the response.\"\"\"\u001b[0m\u001b[1;33m\u001b[0m\u001b[1;33m\u001b[0m\u001b[0m\n\u001b[1;32m--> 230\u001b[1;33m     \u001b[0m_raise_for_status\u001b[0m\u001b[1;33m(\u001b[0m\u001b[0mresponse\u001b[0m\u001b[1;33m)\u001b[0m\u001b[1;33m\u001b[0m\u001b[1;33m\u001b[0m\u001b[0m\n\u001b[0m\u001b[0;32m    231\u001b[0m     \u001b[0mobj\u001b[0m \u001b[1;33m=\u001b[0m \u001b[0mresponse\u001b[0m\u001b[1;33m.\u001b[0m\u001b[0mjson\u001b[0m\u001b[1;33m(\u001b[0m\u001b[1;33m)\u001b[0m\u001b[1;33m\u001b[0m\u001b[1;33m\u001b[0m\u001b[0m\n\u001b[0;32m    232\u001b[0m     \u001b[1;32mif\u001b[0m \u001b[1;32mnot\u001b[0m \u001b[0misinstance\u001b[0m\u001b[1;33m(\u001b[0m\u001b[0mobj\u001b[0m\u001b[1;33m,\u001b[0m \u001b[0mdict\u001b[0m\u001b[1;33m)\u001b[0m\u001b[1;33m:\u001b[0m\u001b[1;33m\u001b[0m\u001b[1;33m\u001b[0m\u001b[0m\n",
      "\u001b[1;32m~\\AppData\\Local\\Programs\\Python\\Python39\\lib\\site-packages\\langserve\\client.py\u001b[0m in \u001b[0;36m_raise_for_status\u001b[1;34m(response)\u001b[0m\n\u001b[0;32m    163\u001b[0m             \u001b[0mmessage\u001b[0m \u001b[1;33m+=\u001b[0m \u001b[1;34mf\" for {e.response.text}\"\u001b[0m\u001b[1;33m\u001b[0m\u001b[1;33m\u001b[0m\u001b[0m\n\u001b[0;32m    164\u001b[0m \u001b[1;33m\u001b[0m\u001b[0m\n\u001b[1;32m--> 165\u001b[1;33m         raise httpx.HTTPStatusError(\n\u001b[0m\u001b[0;32m    166\u001b[0m             \u001b[0mmessage\u001b[0m\u001b[1;33m=\u001b[0m\u001b[0mmessage\u001b[0m\u001b[1;33m,\u001b[0m\u001b[1;33m\u001b[0m\u001b[1;33m\u001b[0m\u001b[0m\n\u001b[0;32m    167\u001b[0m             \u001b[0mrequest\u001b[0m\u001b[1;33m=\u001b[0m\u001b[0m_sanitize_request\u001b[0m\u001b[1;33m(\u001b[0m\u001b[0me\u001b[0m\u001b[1;33m.\u001b[0m\u001b[0mrequest\u001b[0m\u001b[1;33m)\u001b[0m\u001b[1;33m,\u001b[0m\u001b[1;33m\u001b[0m\u001b[1;33m\u001b[0m\u001b[0m\n",
      "\u001b[1;31mHTTPStatusError\u001b[0m: Server error '500 Internal Server Error' for url 'http://localhost:8000/chain/invoke'\nFor more information check: https://developer.mozilla.org/en-US/docs/Web/HTTP/Status/500 for Internal Server Error"
     ]
    }
   ],
   "source": [
    "from langserve import RemoteRunnable\n",
    "\n",
    "remote_chain = RemoteRunnable(\"http://localhost:8000/chain/\")\n",
    "remote_chain.invoke({\"language\": \"italian\", \"text\": \"hi\"})"
   ]
  }
 ],
 "metadata": {
  "kernelspec": {
   "display_name": "Python 3 (ipykernel)",
   "language": "python",
   "name": "python3"
  },
  "language_info": {
   "codemirror_mode": {
    "name": "ipython",
    "version": 3
   },
   "file_extension": ".py",
   "mimetype": "text/x-python",
   "name": "python",
   "nbconvert_exporter": "python",
   "pygments_lexer": "ipython3",
   "version": "3.9.7"
  }
 },
 "nbformat": 4,
 "nbformat_minor": 5
}
